{
 "cells": [
  {
   "cell_type": "code",
   "execution_count": 1,
   "id": "e45c48ca",
   "metadata": {},
   "outputs": [],
   "source": [
    "import numpy as np\n",
    "import pandas as pd\n",
    "import scipy.stats\n",
    "from scipy.stats import chi2"
   ]
  },
  {
   "cell_type": "code",
   "execution_count": 2,
   "id": "80be5235",
   "metadata": {},
   "outputs": [],
   "source": [
    "import warnings\n",
    "warnings.filterwarnings('ignore')"
   ]
  },
  {
   "cell_type": "code",
   "execution_count": 3,
   "id": "69e59523",
   "metadata": {},
   "outputs": [],
   "source": [
    "df=pd.read_csv('train.csv')\n",
    "df1=pd.read_csv('test.csv')\n",
    "df2 = pd.read_excel(\"housing.xlsx\")"
   ]
  },
  {
   "cell_type": "code",
   "execution_count": 4,
   "id": "0efe8759",
   "metadata": {},
   "outputs": [],
   "source": [
    "def print_various_data_info(df):\n",
    "    print(\"No of columns={}\".format(len(df.columns)))\n",
    "    print(\"No of rows={}\".format(len(df.index)))\n",
    "    print(\"No of entries={}\".format(len(df.columns)*len(df.index)))\n",
    "    print(\"Data Type=\\n{}\".format(df.dtypes.value_counts()))\n",
    "    print(\"Shape of Dataframe={}\".format(df.shape))\n",
    "    print(\"Not Null values=\\n{}\".format(df.count()))\n",
    "    for i in df.columns:\n",
    "        print(i,df[i].isna().sum())"
   ]
  },
  {
   "cell_type": "code",
   "execution_count": 5,
   "id": "d68359ed",
   "metadata": {},
   "outputs": [],
   "source": [
    "def first_ten_and_last_ten(df):\n",
    "    print(df.head(10))\n",
    "    print(df.tail(10))"
   ]
  },
  {
   "cell_type": "code",
   "execution_count": 6,
   "id": "4b0a35c2",
   "metadata": {},
   "outputs": [],
   "source": [
    "def print_numerical_columns(df):\n",
    "    print(df.select_dtypes(include=['int64','float64']).columns.tolist())"
   ]
  },
  {
   "cell_type": "code",
   "execution_count": 7,
   "id": "9d64caf7",
   "metadata": {},
   "outputs": [],
   "source": [
    "def get_int_float_dtype_null_column_list(df):\n",
    "    null_counts=df.select_dtypes(['int64','float64']).isnull().sum()\n",
    "    return null_counts[null_counts > 0]"
   ]
  },
  {
   "cell_type": "code",
   "execution_count": 8,
   "id": "62dad03b",
   "metadata": {},
   "outputs": [],
   "source": [
    "def fill_int_float_dtype_null_cells_data_with_mean(df):\n",
    "    #if want to do permanently use inline=True\n",
    "    df.fillna(df.mean())"
   ]
  },
  {
   "cell_type": "code",
   "execution_count": 9,
   "id": "e5436e80",
   "metadata": {},
   "outputs": [],
   "source": [
    "def get_object_dtype_column_list(df):\n",
    "    object_count=df.select_dtypes(include=['object']).columns.tolist()\n",
    "    return object_count"
   ]
  },
  {
   "cell_type": "code",
   "execution_count": 10,
   "id": "f409bf38",
   "metadata": {},
   "outputs": [],
   "source": [
    "def get_category_column_list(df):\n",
    "    dummies= pd.get_dummies(df.ocean_proximity)\n",
    "    merged=pd.concat([df,dummies],axis=1)\n",
    "    final=merged.drop(['ocean_proximity','NEAR OCEAN'],axis=1)\n",
    "    vc = final.select_dtypes(include=['uint8']).columns.tolist()\n",
    "    categorial_column_list=[]\n",
    "    for i in vc:\n",
    "        if final[i].value_counts()[1] <=10:\n",
    "            categorial_column_list.append(i)\n",
    "    return categorial_column_list"
   ]
  },
  {
   "cell_type": "code",
   "execution_count": 11,
   "id": "94d8381f",
   "metadata": {},
   "outputs": [],
   "source": [
    "def apply_category_column_encoding(df,get_category_column_list):\n",
    "    dummies= pd.get_dummies(df2.ocean_proximity)\n",
    "    merged=pd.concat([df2,dummies],axis=1)\n",
    "    final=merged.drop(['ocean_proximity','NEAR OCEAN'],axis=1)\n",
    "    x=''.join(get_category_column_list(df))\n",
    "    encod=final.assign(Addtional_Col = final[x].values)\n",
    "    encod=encod.drop([x],axis=1)\n",
    "    return encod"
   ]
  },
  {
   "cell_type": "code",
   "execution_count": 12,
   "id": "eff744c2",
   "metadata": {},
   "outputs": [],
   "source": [
    "def ocean_poximity(df):\n",
    "    return df2.groupby(['ocean_proximity']).count()"
   ]
  },
  {
   "cell_type": "code",
   "execution_count": 13,
   "id": "35b3d78a",
   "metadata": {},
   "outputs": [],
   "source": [
    "#cleaing dataset\n",
    "mapping={'yes':1,'no':0}\n",
    "\n",
    "df['dependency'] =df['dependency'].replace(mapping).astype(np.float64)\n",
    "df['edjefe'] =df['edjefe'].replace(mapping).astype(np.float64)\n",
    "df['edjefa'] =df['edjefa'].replace(mapping).astype(np.float64)"
   ]
  },
  {
   "cell_type": "code",
   "execution_count": 14,
   "id": "8cc98671",
   "metadata": {},
   "outputs": [],
   "source": [
    "heads = df.loc[df['parentesco1'] == 1].copy()"
   ]
  },
  {
   "cell_type": "code",
   "execution_count": 15,
   "id": "92b695f1",
   "metadata": {},
   "outputs": [],
   "source": [
    "df.update(df[['v2a1','v18q1','rez_esc','meaneduc','SQBmeaned']].fillna(0))"
   ]
  },
  {
   "cell_type": "code",
   "execution_count": 16,
   "id": "eaf457b0",
   "metadata": {},
   "outputs": [],
   "source": [
    "def biased(df):\n",
    "    target_counts = heads['Target'].value_counts().sort_index()\n",
    "    if target_counts[1]<(target_counts[2] & target_counts[3] & target_counts[4]):\n",
    "        print(\"Dataset is Biased\")\n",
    "    else:\n",
    "        print(\"Dataset is Not Biased\")\n",
    "    "
   ]
  },
  {
   "cell_type": "code",
   "execution_count": 17,
   "id": "e6a3b45c",
   "metadata": {},
   "outputs": [],
   "source": [
    "def check_poverty(df):\n",
    "    equal = df.groupby('idhogar')['Target'].apply(lambda x: x.nunique() == 1)\n",
    "    not_equal = equal[equal != True]\n",
    "    print('There are {} households where the family members of the house do not have the same poverty level.'.format(len(not_equal)))"
   ]
  },
  {
   "cell_type": "code",
   "execution_count": 18,
   "id": "c369e0bd",
   "metadata": {},
   "outputs": [],
   "source": [
    "def check_head(df): \n",
    "    households_head = df.groupby('idhogar')['parentesco1'].sum()\n",
    "    households_no_head = df.loc[df['idhogar'].isin(households_head[households_head == 0].index), :]\n",
    "    print('There are {} households without a head.'.format(households_no_head['idhogar'].nunique()))"
   ]
  },
  {
   "cell_type": "code",
   "execution_count": 19,
   "id": "5121f306",
   "metadata": {},
   "outputs": [],
   "source": [
    "def set_poverty(df):\n",
    "    for household in not_equal.index:\n",
    "        true_target = int(df[(df['idhogar'] == household) & (df['parentesco1'] == 1.0)]['Target'])\n",
    "        df.loc[df['idhogar'] == household, 'Target'] = true_target"
   ]
  },
  {
   "cell_type": "code",
   "execution_count": 20,
   "id": "0e772dfa",
   "metadata": {},
   "outputs": [],
   "source": [
    "def remove_null_at_target(df):\n",
    "    df = df.dropna(axis=0, subset=['Target'])"
   ]
  },
  {
   "cell_type": "code",
   "execution_count": 21,
   "id": "44d4a903",
   "metadata": {},
   "outputs": [],
   "source": [
    "def merge(df,df1):\n",
    "    result = pd.concat([df, df1])\n",
    "    return result"
   ]
  }
 ],
 "metadata": {
  "kernelspec": {
   "display_name": "Python 3 (ipykernel)",
   "language": "python",
   "name": "python3"
  },
  "language_info": {
   "codemirror_mode": {
    "name": "ipython",
    "version": 3
   },
   "file_extension": ".py",
   "mimetype": "text/x-python",
   "name": "python",
   "nbconvert_exporter": "python",
   "pygments_lexer": "ipython3",
   "version": "3.9.7"
  }
 },
 "nbformat": 4,
 "nbformat_minor": 5
}
